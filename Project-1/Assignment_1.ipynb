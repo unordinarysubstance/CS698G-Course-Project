{
  "cells": [
    {
      "cell_type": "markdown",
      "id": "f6f4fb82",
      "metadata": {
        "id": "f6f4fb82"
      },
      "source": [
        "## Introduction\n",
        "\n",
        "We have learned AES on lectures. This assignment aims to develop its practical applications and analyze security.\n",
        "You will face two kinds of questions: short-answer questions and implementation questions. They always start with a red <font color=\"red\">Question xx</font>. There are <b>14 Questions</b> in total.\n",
        "\n",
        "For short answer questions, please type your answer in the next block (by double click that block).\n",
        "\n",
        "For implementation questions, please finish the corresponding implementation by typing your code between the comments <font color=\"green\">\"You code starts\"</font> and <font color=\"green\">\"You code ends\"</font>. Please read the requiremnts carefully for each question. Unable to follow them will attract 0 marks for corresponding questions.\n",
        "\n",
        "The total marks for this assignment is 130, contributing as 13% to the subject marks.\n",
        "\n",
        "<b>Evaluation</b>: Your iPython notebook should run end-to-end without any errors in a reasonable amount of time, and you must follow all instructions provided below, including specific implementation requirements and instructions for what needs to be printed (please avoid printing output we don't ask for). You should edit the sections below where requested, but leave the rest of the code as is. You should leave the output from running your code in the iPython notebook you submit, to assist with marking. The amount each section is worth is given in parenthesis after the instructions. <b> You should use Python 3</b>. Our marking script is running at Python 3.10.16.\n",
        "\n",
        "<font color=\"red\">Important: Importing any library is prohibited! Using any of them will attract 0 mark for all corresponding questions!</font>\n",
        "\n",
        "<b>Academic misconduct</b>: For most people, collaboration will form a natural part of the undertaking of this homework, and we encourage you to discuss it in general terms with other students. However, this ultimately is still an individual task, and so reuse of code or other instances of clear influence will be considered cheating. We will be checking submissions for originality and will invoke the University’s Academic Misconduct policy where inappropriate levels of collusion or plagiarism are deemed to have taken place."
      ]
    },
    {
      "cell_type": "markdown",
      "id": "89981808",
      "metadata": {
        "id": "89981808"
      },
      "source": [
        "---------------------------------------------------------"
      ]
    },
    {
      "cell_type": "markdown",
      "id": "5d03b193",
      "metadata": {
        "id": "5d03b193"
      },
      "source": [
        "<font color=\"green\">Please sign your student name and ID there.</font>\n",
        "\n",
        "By signing my name there, I agree:\n",
        "\n",
        "   (1) I certify that the program contained in this submission is completely\n",
        "   my own individual work, except where explicitly noted by comments that\n",
        "   provide details otherwise.  I understand that work that has been developed\n",
        "   by another student, or by me in collaboration with other students,\n",
        "   or by non-students as a result of request, solicitation, or payment,\n",
        "   may not be submitted for assessment in this subject.  I understand that\n",
        "   submitting for assessment work developed by or in collaboration with\n",
        "   other students or non-students constitutes Academic Misconduct, and\n",
        "   may be penalized by mark deductions, or by other penalties determined\n",
        "   via the University.\n",
        "\n",
        "   (2) I also certify that I have not provided a copy of this work in either\n",
        "   softcopy or hardcopy or any other form to any other student, and nor will\n",
        "   I do so until after the marks are released. I understand that providing\n",
        "   my work to other students, regardless of my intention or any undertakings\n",
        "   made to me by that other student, is also Academic Misconduct.\n",
        "\n",
        "   (3) I further understand that providing a copy of the assignment\n",
        "   specification to any form of code authoring or assignment tutoring\n",
        "   service, or drawing the attention of others to such services and code\n",
        "   that may have been made available via such a service, may be regarded\n",
        "   as Student General Misconduct (interfering with the teaching activities\n",
        "   of the University and/or inciting others to commit Academic Misconduct).\n",
        "   I understand that an allegation of Student General Misconduct may arise\n",
        "   regardless of whether or not I personally make use of such solutions\n",
        "   or sought benefit from such actions.\n",
        "\n",
        "\n",
        "Student Name: Aaryan Maheshwari\n",
        "\n",
        "Student ID: 230022\n",
        "\n",
        "Date: 13th June, 2025"
      ]
    },
    {
      "cell_type": "markdown",
      "id": "c6969239",
      "metadata": {
        "id": "c6969239"
      },
      "source": [
        "---------------------------------------------------------"
      ]
    },
    {
      "cell_type": "markdown",
      "id": "b618b297",
      "metadata": {
        "id": "b618b297"
      },
      "source": [
        "## Section 0: Preparation\n",
        "#### [40 marks]\n",
        "We are going to develop AES-128. Please review its mechanism from the slides and Stalling's book.\n",
        "\n",
        "Followings are some default parameters used by AES. Please ensure you have already run them when you re-start this notebook. Do not modify it."
      ]
    },
    {
      "cell_type": "code",
      "execution_count": 48,
      "id": "d0d5aa77",
      "metadata": {
        "id": "d0d5aa77"
      },
      "outputs": [],
      "source": [
        "SBOX = [\n",
        "    [0x63, 0x7C, 0x77, 0x7B, 0xF2, 0x6B, 0x6F, 0xC5, 0x30, 0x01, 0x67, 0x2B, 0xFE, 0xD7, 0xAB, 0x76],\n",
        "    [0xCA, 0x82, 0xC9, 0x7D, 0xFA, 0x59, 0x47, 0xF0, 0xAD, 0xD4, 0xA2, 0xAF, 0x9C, 0xA4, 0x72, 0xC0],\n",
        "    [0xB7, 0xFD, 0x93, 0x26, 0x36, 0x3F, 0xF7, 0xCC, 0x34, 0xA5, 0xE5, 0xF1, 0x71, 0xD8, 0x31, 0x15],\n",
        "    [0x04, 0xC7, 0x23, 0xC3, 0x18, 0x96, 0x05, 0x9A, 0x07, 0x12, 0x80, 0xE2, 0xEB, 0x27, 0xB2, 0x75],\n",
        "    [0x09, 0x83, 0x2C, 0x1A, 0x1B, 0x6E, 0x5A, 0xA0, 0x52, 0x3B, 0xD6, 0xB3, 0x29, 0xE3, 0x2F, 0x84],\n",
        "    [0x53, 0xD1, 0x00, 0xED, 0x20, 0xFC, 0xB1, 0x5B, 0x6A, 0xCB, 0xBE, 0x39, 0x4A, 0x4C, 0x58, 0xCF],\n",
        "    [0xD0, 0xEF, 0xAA, 0xFB, 0x43, 0x4D, 0x33, 0x85, 0x45, 0xF9, 0x02, 0x7F, 0x50, 0x3C, 0x9F, 0xA8],\n",
        "    [0x51, 0xA3, 0x40, 0x8F, 0x92, 0x9D, 0x38, 0xF5, 0xBC, 0xB6, 0xDA, 0x21, 0x10, 0xFF, 0xF3, 0xD2],\n",
        "    [0xCD, 0x0C, 0x13, 0xEC, 0x5F, 0x97, 0x44, 0x17, 0xC4, 0xA7, 0x7E, 0x3D, 0x64, 0x5D, 0x19, 0x73],\n",
        "    [0x60, 0x81, 0x4F, 0xDC, 0x22, 0x2A, 0x90, 0x88, 0x46, 0xEE, 0xB8, 0x14, 0xDE, 0x5E, 0x0B, 0xDB],\n",
        "    [0xE0, 0x32, 0x3A, 0x0A, 0x49, 0x06, 0x24, 0x5C, 0xC2, 0xD3, 0xAC, 0x62, 0x91, 0x95, 0xE4, 0x79],\n",
        "    [0xE7, 0xC8, 0x37, 0x6D, 0x8D, 0xD5, 0x4E, 0xA9, 0x6C, 0x56, 0xF4, 0xEA, 0x65, 0x7A, 0xAE, 0x08],\n",
        "    [0xBA, 0x78, 0x25, 0x2E, 0x1C, 0xA6, 0xB4, 0xC6, 0xE8, 0xDD, 0x74, 0x1F, 0x4B, 0xBD, 0x8B, 0x8A],\n",
        "    [0x70, 0x3E, 0xB5, 0x66, 0x48, 0x03, 0xF6, 0x0E, 0x61, 0x35, 0x57, 0xB9, 0x86, 0xC1, 0x1D, 0x9E],\n",
        "    [0xE1, 0xF8, 0x98, 0x11, 0x69, 0xD9, 0x8E, 0x94, 0x9B, 0x1E, 0x87, 0xE9, 0xCE, 0x55, 0x28, 0xDF],\n",
        "    [0x8C, 0xA1, 0x89, 0x0D, 0xBF, 0xE6, 0x42, 0x68, 0x41, 0x99, 0x2D, 0x0F, 0xB0, 0x54, 0xBB, 0x16]\n",
        "]\n",
        "\n",
        "INV_SBOX = [\n",
        "    [0x52, 0x09, 0x6A, 0xD5, 0x30, 0x36, 0xA5, 0x38, 0xBF, 0x40, 0xA3, 0x9E, 0x81, 0xF3, 0xD7, 0xFB],\n",
        "    [0x7C, 0xE3, 0x39, 0x82, 0x9B, 0x2F, 0xFF, 0x87, 0x34, 0x8E, 0x43, 0x44, 0xC4, 0xDE, 0xE9, 0xCB],\n",
        "    [0x54, 0x7B, 0x94, 0x32, 0xA6, 0xC2, 0x23, 0x3D, 0xEE, 0x4C, 0x95, 0x0B, 0x42, 0xFA, 0xC3, 0x4E],\n",
        "    [0x08, 0x2E, 0xA1, 0x66, 0x28, 0xD9, 0x24, 0xB2, 0x76, 0x5B, 0xA2, 0x49, 0x6D, 0x8B, 0xD1, 0x25],\n",
        "    [0x72, 0xF8, 0xF6, 0x64, 0x86, 0x68, 0x98, 0x16, 0xD4, 0xA4, 0x5C, 0xCC, 0x5D, 0x65, 0xB6, 0x92],\n",
        "    [0x6C, 0x70, 0x48, 0x50, 0xFD, 0xED, 0xB9, 0xDA, 0x5E, 0x15, 0x46, 0x57, 0xA7, 0x8D, 0x9D, 0x84],\n",
        "    [0x90, 0xD8, 0xAB, 0x00, 0x8C, 0xBC, 0xD3, 0x0A, 0xF7, 0xE4, 0x58, 0x05, 0xB8, 0xB3, 0x45, 0x06],\n",
        "    [0xD0, 0x2C, 0x1E, 0x8F, 0xCA, 0x3F, 0x0F, 0x02, 0xC1, 0xAF, 0xBD, 0x03, 0x01, 0x13, 0x8A, 0x6B],\n",
        "    [0x3A, 0x91, 0x11, 0x41, 0x4F, 0x67, 0xDC, 0xEA, 0x97, 0xF2, 0xCF, 0xCE, 0xF0, 0xB4, 0xE6, 0x73],\n",
        "    [0x96, 0xAC, 0x74, 0x22, 0xE7, 0xAD, 0x35, 0x85, 0xE2, 0xF9, 0x37, 0xE8, 0x1C, 0x75, 0xDF, 0x6E],\n",
        "    [0x47, 0xF1, 0x1A, 0x71, 0x1D, 0x29, 0xC5, 0x89, 0x6F, 0xB7, 0x62, 0x0E, 0xAA, 0x18, 0xBE, 0x1B],\n",
        "    [0xFC, 0x56, 0x3E, 0x4B, 0xC6, 0xD2, 0x79, 0x20, 0x9A, 0xDB, 0xC0, 0xFE, 0x78, 0xCD, 0x5A, 0xF4],\n",
        "    [0x1F, 0xDD, 0xA8, 0x33, 0x88, 0x07, 0xC7, 0x31, 0xB1, 0x12, 0x10, 0x59, 0x27, 0x80, 0xEC, 0x5F],\n",
        "    [0x60, 0x51, 0x7F, 0xA9, 0x19, 0xB5, 0x4A, 0x0D, 0x2D, 0xE5, 0x7A, 0x9F, 0x93, 0xC9, 0x9C, 0xEF],\n",
        "    [0xA0, 0xE0, 0x3B, 0x4D, 0xAE, 0x2A, 0xF5, 0xB0, 0xC8, 0xEB, 0xBB, 0x3C, 0x83, 0x53, 0x99, 0x61],\n",
        "    [0x17, 0x2B, 0x04, 0x7E, 0xBA, 0x77, 0xD6, 0x26, 0xE1, 0x69, 0x14, 0x63, 0x55, 0x21, 0x0C, 0x7D],\n",
        "]\n",
        "\n",
        "RCON = [\n",
        "    0x00, 0x01, 0x02, 0x04, 0x08, 0x10, 0x20, 0x40, 0x80, 0x1B, 0x36\n",
        "]"
      ]
    },
    {
      "cell_type": "markdown",
      "id": "2f96c308",
      "metadata": {
        "id": "2f96c308"
      },
      "source": [
        "#### Data Representations\n",
        "\n",
        "Recall that all data stored in the computer are formatted as bytes. In this assignment, we are going to represent an n-bytes data as a 1-D hexidecimals array. For example, a 5-byte data can be represented as:"
      ]
    },
    {
      "cell_type": "code",
      "execution_count": 49,
      "id": "6777c88c",
      "metadata": {
        "id": "6777c88c"
      },
      "outputs": [],
      "source": [
        "data = [0xff, 0x01, 0x4b, 0x22, 0x00]"
      ]
    },
    {
      "cell_type": "markdown",
      "id": "e0bb98f2",
      "metadata": {
        "id": "e0bb98f2"
      },
      "source": [
        "0x informs the computer that it is a hexadecimal representation, and the following characters (i.e. 4b) represents the value in hexadecimal format. Note that the value for each byte is 0~255, corresponding to 0x00~0xff."
      ]
    },
    {
      "cell_type": "markdown",
      "id": "04b5a820",
      "metadata": {
        "id": "04b5a820"
      },
      "source": [
        "<font color=\"red\" size=\"4\">Question 1:</font> [6 mark]\n",
        "\n",
        "What are the size for the master key, input block, and output block in AES-128/192/256?\n"
      ]
    },
    {
      "cell_type": "markdown",
      "id": "6563ad62",
      "metadata": {
        "id": "6563ad62"
      },
      "source": [
        "**Answer:**\n",
        "\n",
        "1. AES-128:\n",
        "\n",
        "* Master-Key Size = 128 bits\n",
        "* Input Block = 128 bits\n",
        "* Output Block = 128 bits\n",
        "\n",
        "\n",
        "\n",
        "2. AES-192:\n",
        "\n",
        "* Master-Key Size = 192 bits\n",
        "\n",
        "* Input Block = 128 bits\n",
        "\n",
        "* Output Block = 128 bits\n",
        "\n",
        "3. AES-256:\n",
        "\n",
        "* Master-Key Size = 256 bits\n",
        "\n",
        "* Input Block = 128 bits\n",
        "\n",
        "* Output Block = 128 bits\n",
        "\n"
      ]
    },
    {
      "cell_type": "markdown",
      "id": "d79dd133",
      "metadata": {
        "id": "d79dd133"
      },
      "source": [
        "Before we start our implementation, we need some help functions for basic operations.\n",
        "\n",
        "<font color=\"red\" size=\"4\">Question 2:</font> [5 mark]\n",
        "\n",
        "Recall that AES operates on a 4x4 2-D <b>column-major order</b> matrix of 16 bytes. We thus need to convert our 1-D byte array data into such a 4x4 2-D byte matrix. Now finish \"to_matrix\" and \"to_bytes\" that convert the 1-D byte array to its 2-D <b>column-major order</b> matrix and convert it back respectively.\n",
        "\n",
        "![1.png](data:image/png;base64,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)"
      ]
    },
    {
      "cell_type": "code",
      "execution_count": 50,
      "id": "a523ca09",
      "metadata": {
        "id": "a523ca09"
      },
      "outputs": [],
      "source": [
        "## Input: 1-D byte array\n",
        "## Output: 2-D byte matrix\n",
        "def to_matrix(data):\n",
        "\n",
        "    matrix = [list(data[i::4]) for i in range(4)]\n",
        "    return matrix\n",
        "\n",
        "## Input: 2-D byte matrix\n",
        "## Output: 1-D byte array\n",
        "def to_array(matrix):\n",
        "\n",
        "    array = [matrix[col][row] for row in range(4) for col in range(4)]\n",
        "    return array"
      ]
    },
    {
      "cell_type": "code",
      "execution_count": 51,
      "id": "0ef4c81a",
      "metadata": {
        "id": "0ef4c81a"
      },
      "outputs": [],
      "source": [
        "## For your check\n",
        "test_array = [0x01, 0x02, 0x03, 0x04, 0x05, 0x06, 0x07, 0x08, 0x09, 0x0A, 0x0B, 0x0C, 0x0D, 0x0E, 0x0F, 0x10]\n",
        "assert len(to_matrix(test_array)) == 4\n",
        "for row in to_matrix(test_array):\n",
        "    assert len(row) == 4\n",
        "assert to_array(to_matrix(test_array)) == test_array"
      ]
    },
    {
      "cell_type": "markdown",
      "id": "w8oxumRb4F82",
      "metadata": {
        "id": "w8oxumRb4F82"
      },
      "source": [
        "<font color=\"red\" size=\"4\">Question 3:</font> [4 mark]\n",
        "\n",
        "Finish the AddRoundKey operated on the 4*4 2-D matrix.\n",
        "\n",
        "![2.png](data:image/png;base64,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)"
      ]
    },
    {
      "cell_type": "code",
      "execution_count": 52,
      "id": "58bd92c2",
      "metadata": {
        "id": "58bd92c2"
      },
      "outputs": [],
      "source": [
        "## Input: 2-D byte matrix input block\n",
        "## Input: 2-D byte matrix key\n",
        "## Output: 2-D byte matrix output block\n",
        "def AddRoundKey(matrix_input, matrix_key):\n",
        "    matrix_output = [[0 for i in range(4)] for i in range(4)]\n",
        "\n",
        "    for i in range(4):\n",
        "        for j in range(4):\n",
        "            matrix_output[i][j] = matrix_input[i][j] ^ matrix_key[i][j]\n",
        "\n",
        "    return matrix_output\n"
      ]
    },
    {
      "cell_type": "code",
      "execution_count": 53,
      "id": "b5340c98",
      "metadata": {
        "id": "b5340c98"
      },
      "outputs": [],
      "source": [
        "## For your check\n",
        "test_array_in = [0x01, 0x02, 0x03, 0x04, 0x05, 0x06, 0x07, 0x08, 0x09, 0x0A, 0x0B, 0x0C, 0x0D, 0x0E, 0x0F, 0x10]\n",
        "test_array_key = [0x01, 0x02, 0x03, 0x04, 0x05, 0x06, 0x07, 0x08, 0x09, 0x0A, 0x0B, 0x0C, 0x0D, 0x0E, 0x0F, 0x10]\n",
        "assert AddRoundKey(to_matrix(test_array_in), to_matrix(test_array_key))[2][1] == 0x00"
      ]
    },
    {
      "cell_type": "markdown",
      "id": "9b9797f1",
      "metadata": {
        "id": "9b9797f1"
      },
      "source": [
        "<font color=\"red\" size=\"4\">Question 4:</font> [5 mark]\n",
        "\n",
        "Finish the SubBytes and its inverse opertion operated on the 4*4 2-D matrix.\n",
        "\n",
        "(Hint: the forward and inverse look-up tables have already been defined in Section 0 as 'SBOX' and 'INV_SBOX')\n",
        "\n",
        "![3.png](data:image/png;base64,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)"
      ]
    },
    {
      "cell_type": "code",
      "execution_count": 54,
      "id": "9284159d",
      "metadata": {
        "id": "9284159d"
      },
      "outputs": [],
      "source": [
        "## Input: 2-D byte matrix\n",
        "## Output: 2-D byte matrix\n",
        "def SubBytes(matrix):\n",
        "    for i in range(4):\n",
        "        for j in range(4):\n",
        "            matrix[i][j] = SBOX[matrix[i][j] >> 4][matrix[i][j] & 0x0F]\n",
        "    return matrix\n",
        "\n",
        "## Input: 2-D byte matrix\n",
        "## Output: 2-D byte matrix\n",
        "def SubBytes_inv(matrix):\n",
        "    for i in range(4):\n",
        "        for j in range(4):\n",
        "            matrix[i][j] = INV_SBOX[matrix[i][j] >> 4][matrix[i][j] & 0x0F]\n",
        "    return matrix"
      ]
    },
    {
      "cell_type": "code",
      "execution_count": 55,
      "id": "67f25d53",
      "metadata": {
        "id": "67f25d53"
      },
      "outputs": [],
      "source": [
        "## For your check\n",
        "test_array = [0x01, 0x02, 0x03, 0x04, 0x05, 0x06, 0x07, 0x08, 0x09, 0x0A, 0x0B, 0x0C, 0x0D, 0x0E, 0x0F, 0x10]\n",
        "test_matrix = to_matrix(test_array)\n",
        "assert SubBytes_inv(SubBytes(test_matrix)) == test_matrix"
      ]
    },
    {
      "cell_type": "markdown",
      "id": "9b6ce712",
      "metadata": {
        "id": "9b6ce712"
      },
      "source": [
        "<font color=\"red\" size=\"4\">Question 5:</font> [5 mark]\n",
        "\n",
        "Finish the ShiftRows and its inverse opertion operated on the 4*4 2-D matrix.\n",
        "\n",
        "![4.png](data:image/png;base64,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)"
      ]
    },
    {
      "cell_type": "code",
      "execution_count": 56,
      "id": "L6A9yvRC4mIx",
      "metadata": {
        "id": "L6A9yvRC4mIx"
      },
      "outputs": [],
      "source": [
        "## Input: 2-D byte matrix\n",
        "## Output: 2-D byte matrix\n",
        "def ShiftRows(matrix):\n",
        "\n",
        "    matrix[1] = matrix[1][1:] + matrix[1][:1]      # Shift 2nd row left by 1\n",
        "    matrix[2] = matrix[2][2:] + matrix[2][:2]      # Shift 3rd row left by 2\n",
        "    matrix[3] = matrix[3][3:] + matrix[3][:3]      # Shift 4th row left by 3\n",
        "\n",
        "    return matrix\n",
        "\n",
        "## Input: 2-D byte matrix\n",
        "## Output: 2-D byte matrix\n",
        "def ShiftRows_inv(matrix):\n",
        "\n",
        "    matrix[1] = matrix[1][-1:] + matrix[1][:-1]    # Shift 2nd row right by 1\n",
        "    matrix[2] = matrix[2][-2:] + matrix[2][:-2]    # Shift 3rd row right by 2\n",
        "    matrix[3] = matrix[3][-3:] + matrix[3][:-3]    # Shift 4th row right by 3\n",
        "\n",
        "    return matrix"
      ]
    },
    {
      "cell_type": "code",
      "execution_count": 57,
      "id": "6sc1xhH-4mW7",
      "metadata": {
        "id": "6sc1xhH-4mW7"
      },
      "outputs": [],
      "source": [
        "## For your check\n",
        "test_array = [0x01, 0x02, 0x03, 0x04, 0x05, 0x06, 0x07, 0x08, 0x09, 0x0A, 0x0B, 0x0C, 0x0D, 0x0E, 0x0F, 0x10]\n",
        "test_matrix = to_matrix(test_array)\n",
        "assert ShiftRows_inv(ShiftRows(test_matrix)) == test_matrix"
      ]
    },
    {
      "cell_type": "markdown",
      "id": "247be28f",
      "metadata": {
        "id": "247be28f"
      },
      "source": [
        "<font color=\"red\" size=\"4\">Question 6:</font> [15 mark]\n",
        "\n",
        "Finish the MixColumns and its inverse opertion operated on the 4*4 2-D matrix.\n",
        "\n",
        "(Hint: the individual additions and multiplications are perfromed in $GF(2^8)$ with irreducible polynomial: $x^8 + x^4 + x^3 + x + 1$ (or 0x11b in hex).)\n",
        "\n",
        "![5.png](data:image/png;base64,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)"
      ]
    },
    {
      "cell_type": "code",
      "execution_count": 58,
      "id": "b8e5a3e0",
      "metadata": {
        "id": "b8e5a3e0"
      },
      "outputs": [],
      "source": [
        "# multiplication by 2 in GF(2^8)\n",
        "def function(a):\n",
        "    return ((a << 1) ^ 0x1b) & 0xFF if (a & 0x80) else (a << 1)\n",
        "\n",
        "# Multiplication in GF(2^8) by AES constants\n",
        "def mul_2(a): return function(a)\n",
        "def mul_3(a): return function(a) ^ a\n",
        "def mul_9(a): return function(function(function(a))) ^ a\n",
        "def mul_11(a): return function(function(function(a))) ^ function(a) ^ a\n",
        "def mul_13(a): return function(function(function(a))) ^ function(function(a)) ^ a\n",
        "def mul_14(a): return function(function(function(a))) ^ function(function(a)) ^ function(a)\n",
        "\n",
        "\n",
        "## Input: 2-D byte matrix\n",
        "## Output: 2-D byte matrix\n",
        "def MixColumns(matrix):\n",
        "    for i in range(4):\n",
        "        a = matrix[0][i]\n",
        "        b = matrix[1][i]\n",
        "        c = matrix[2][i]\n",
        "        d = matrix[3][i]\n",
        "\n",
        "        matrix[0][i] = mul_2(a) ^ mul_3(b) ^ c ^ d\n",
        "        matrix[1][i] = a ^ mul_2(b) ^ mul_3(c) ^ d\n",
        "        matrix[2][i] = a ^ b ^ mul_2(c) ^ mul_3(d)\n",
        "        matrix[3][i] = mul_3(a) ^ b ^ c ^ mul_2(d)\n",
        "    return matrix\n",
        "\n",
        "\n",
        "## Input: 2-D byte matrix\n",
        "## Output: 2-D byte matrix\n",
        "def MixColumns_inv(matrix):\n",
        "    for i in range(4):\n",
        "        a = matrix[0][i]\n",
        "        b = matrix[1][i]\n",
        "        c = matrix[2][i]\n",
        "        d = matrix[3][i]\n",
        "\n",
        "        matrix[0][i] = mul_14(a) ^ mul_11(b) ^ mul_13(c) ^ mul_9(d)\n",
        "        matrix[1][i] = mul_9(a) ^ mul_14(b) ^ mul_11(c) ^ mul_13(d)\n",
        "        matrix[2][i] = mul_13(a) ^ mul_9(b) ^ mul_14(c) ^ mul_11(d)\n",
        "        matrix[3][i] = mul_11(a) ^ mul_13(b) ^ mul_9(c) ^ mul_14(d)\n",
        "    return matrix\n"
      ]
    },
    {
      "cell_type": "code",
      "execution_count": 59,
      "id": "a6a39ed7",
      "metadata": {
        "id": "a6a39ed7"
      },
      "outputs": [],
      "source": [
        "## For your check\n",
        "test_array = [0x01, 0x02, 0x03, 0x04, 0x05, 0x06, 0x07, 0x08, 0x09, 0x0A, 0x0B, 0x0C, 0x0D, 0x0E, 0x0F, 0x10]\n",
        "test_matrix = to_matrix(test_array)\n",
        "assert MixColumns_inv(MixColumns(test_matrix)) == test_matrix"
      ]
    },
    {
      "cell_type": "markdown",
      "id": "e11205f8",
      "metadata": {
        "id": "e11205f8"
      },
      "source": [
        "--------------------------------------"
      ]
    },
    {
      "cell_type": "markdown",
      "id": "520328c3",
      "metadata": {
        "id": "520328c3"
      },
      "source": [
        "## Section 1: AES-128 Key Scheduling\n",
        "#### [10 marks]\n",
        "\n",
        "Tranditional AES applies the Rijndael key schedule to expand the master key to n round keys. Now we are going to implement it.\n",
        "We use an 1-D byte array to represent the master key, and a 2-D byte array list to represent the entire expanded key.\n",
        "\n",
        "(master key: [0x11, 0x22 .....])\n",
        "\n",
        "(expanded key: [[0x11, 0x22 .....], [0x11, 0x22 .....], [0x11, 0x22 .....], ....])\n",
        "\n",
        "![6.png](data:image/png;base64,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)"
      ]
    },
    {
      "cell_type": "markdown",
      "id": "213384f5",
      "metadata": {
        "id": "213384f5"
      },
      "source": [
        "<font color=\"red\" size=\"4\">Question 7:</font> [7.5 mark]\n",
        "\n",
        "Before we implement the key expansion, we need the core function to compute the next round key.\n",
        "Recall that each round key is computed from the last round key. Finish the 'compute_next_rk' below:\n",
        "\n",
        "(Hint: Round Constant (RC) has already been defined in Section 0 as 'RCON')"
      ]
    },
    {
      "cell_type": "code",
      "execution_count": 60,
      "id": "66ef174d",
      "metadata": {
        "id": "66ef174d"
      },
      "outputs": [],
      "source": [
        "## Input: 1-D byte array for the last round key\n",
        "## Input: int for the round of computed round key\n",
        "##        (say we are computing rk1, then we invoke this function as compute_next_rk(rk0, 1))\n",
        "## Output: 1-D byte array for the next round key\n",
        "\n",
        "def compute_next_rk(current_rk, computed_round):\n",
        "    rk_matrix = to_matrix(current_rk)\n",
        "\n",
        "    last_col = [rk_matrix[row][3] for row in range(4)] # Take last column of current round key\n",
        "\n",
        "    rotated = last_col[1:] + last_col[:1] # Rotate left\n",
        "\n",
        "    substituted = [SBOX[b >> 4][b & 0x0F] for b in rotated] # Apply S-box substitution\n",
        "\n",
        "    substituted[0] ^= RCON[computed_round] # XOR with RCON\n",
        "\n",
        "    # Generate new first column\n",
        "    for row in range(4):\n",
        "        rk_matrix[row][0] ^= substituted[row]\n",
        "\n",
        "    # Generate next columns\n",
        "    for col in range(1, 4):\n",
        "        for row in range(4):\n",
        "            rk_matrix[row][col] ^= rk_matrix[row][col - 1]\n",
        "\n",
        "    next_rk = to_array(rk_matrix)\n",
        "    return next_rk\n",
        "\n",
        "\n"
      ]
    },
    {
      "cell_type": "markdown",
      "id": "c9f82026",
      "metadata": {
        "id": "c9f82026"
      },
      "source": [
        "<font color=\"red\" size=\"4\">Question 8:</font> [2.5 mark]\n",
        "\n",
        "Now finish the entire key expanison for AES 128. The input is the master key represented as an 1-D byte array. The entire expanded key is a 2-D byte array list, where each row is a round key represented as an 1-D byte array."
      ]
    },
    {
      "cell_type": "code",
      "execution_count": 61,
      "id": "cf15a29e",
      "metadata": {
        "id": "cf15a29e"
      },
      "outputs": [],
      "source": [
        "## Input: 1-D byte array for the master key\n",
        "## Output: 2-D byte array list for the entire expanded key\n",
        "def AES128_key_expansion(master_key):\n",
        "    expanded_key = []\n",
        "    ### Your code starts ###\n",
        "    expanded_key.append(master_key)\n",
        "    for i in range(1, 11):\n",
        "        expanded_key.append(compute_next_rk(expanded_key[-1], i))\n",
        "     ### Your code ends ###\n",
        "\n",
        "    return expanded_key\n"
      ]
    },
    {
      "cell_type": "code",
      "execution_count": 62,
      "id": "8fbc8f0c",
      "metadata": {
        "id": "8fbc8f0c"
      },
      "outputs": [],
      "source": [
        "## For your check\n",
        "test_master_key = [0x01, 0x02, 0x03, 0x04, 0x05, 0x06, 0x07, 0x08, 0x09, 0x0A, 0x0B, 0x0C, 0x0D, 0x0E, 0x0F, 0x10]\n",
        "expanded_key = AES128_key_expansion(test_master_key)\n",
        "for round_key in expanded_key:\n",
        "    assert len(round_key) == 16"
      ]
    },
    {
      "cell_type": "markdown",
      "id": "f16518bb",
      "metadata": {
        "id": "f16518bb"
      },
      "source": [
        "---------------------------------------------------------"
      ]
    },
    {
      "cell_type": "markdown",
      "id": "3d6834f9",
      "metadata": {
        "id": "3d6834f9"
      },
      "source": [
        "## Section 2: AES-128 Encryption and Decryption for one block\n",
        "#### [20 marks]\n",
        "\n",
        "\n",
        "<font color=\"red\" size=\"4\">Question 9:</font> [10 mark]\n",
        "\n",
        "Finish the encryption operation. The function take the 1-D byte array master-key and one block 1-D byte array plaintext as inputs, and output the corresponding 1-D byte array ciphertext."
      ]
    },
    {
      "cell_type": "code",
      "execution_count": 63,
      "id": "cf0ca933",
      "metadata": {
        "id": "cf0ca933"
      },
      "outputs": [],
      "source": [
        "## Input: 1-D byte array for the master key\n",
        "## Input: 1-D byte array for one block of plaintext\n",
        "## Output: 1-D byte array for the ciphertext\n",
        "def AES128_encrypt(master_key, plaintext):\n",
        "    # Key expansion to generate all 11 round keys\n",
        "    round_keys = [master_key]\n",
        "    for r in range(1, 11):\n",
        "        next_rk = compute_next_rk(round_keys[-1], r)\n",
        "        round_keys.append(next_rk)\n",
        "\n",
        "    # Initial state\n",
        "    state = to_matrix(plaintext)\n",
        "\n",
        "    # Initial AddRoundKey\n",
        "    state = AddRoundKey(state, to_matrix(round_keys[0]))\n",
        "\n",
        "    # 9 main rounds\n",
        "    for r in range(1, 10):\n",
        "        state = SubBytes(state)\n",
        "        state = ShiftRows(state)\n",
        "        state = MixColumns(state)\n",
        "        state = AddRoundKey(state, to_matrix(round_keys[r]))\n",
        "\n",
        "    # Final round (no MixColumns)\n",
        "    state = SubBytes(state)\n",
        "    state = ShiftRows(state)\n",
        "    state = AddRoundKey(state, to_matrix(round_keys[10]))\n",
        "\n",
        "    # Convert state to ciphertext array\n",
        "    ciphertext = to_array(state)\n",
        "    return ciphertext\n",
        "\n"
      ]
    },
    {
      "cell_type": "markdown",
      "id": "0800b6a7",
      "metadata": {
        "id": "0800b6a7"
      },
      "source": [
        "<font color=\"red\" size=\"4\">Question 10:</font> [10 mark]\n",
        "\n",
        "Finish the decryption operation. The function take the 1-D byte array master-key and one block 1-D byte array ciphertext as inputs, and output the corresponding 1-D byte array plaintext."
      ]
    },
    {
      "cell_type": "code",
      "execution_count": 64,
      "id": "1071dcf7",
      "metadata": {
        "id": "1071dcf7"
      },
      "outputs": [],
      "source": [
        "## Input: 1-D byte array for the master key\n",
        "## Input: 1-D byte array for one block of ciphertext\n",
        "## Output: 1-D byte array for the plaintext\n",
        "def AES128_decrypt(master_key, ciphertext):\n",
        "    # Key expansion to generate all 11 round keys\n",
        "    round_keys = [master_key]\n",
        "    for r in range(1, 11):\n",
        "        next_rk = compute_next_rk(round_keys[-1], r)\n",
        "        round_keys.append(next_rk)\n",
        "\n",
        "    # Initial state\n",
        "    state = to_matrix(ciphertext)\n",
        "\n",
        "    # Initial AddRoundKey (last round key)\n",
        "    state = AddRoundKey(state, to_matrix(round_keys[10]))\n",
        "\n",
        "    # 9 inverse rounds\n",
        "    for r in range(9, 0, -1):\n",
        "        state = ShiftRows_inv(state)\n",
        "        state = SubBytes_inv(state)\n",
        "        state = AddRoundKey(state, to_matrix(round_keys[r]))\n",
        "        state = MixColumns_inv(state)\n",
        "\n",
        "    # Final inverse round (no MixColumns_inv)\n",
        "    state = ShiftRows_inv(state)\n",
        "    state = SubBytes_inv(state)\n",
        "    state = AddRoundKey(state, to_matrix(round_keys[0]))\n",
        "\n",
        "    # Convert state to plaintext array\n",
        "    plaintext = to_array(state)\n",
        "    return plaintext\n"
      ]
    },
    {
      "cell_type": "markdown",
      "id": "87950d40",
      "metadata": {
        "id": "87950d40"
      },
      "source": [
        "---------------------------------------------------------"
      ]
    },
    {
      "cell_type": "markdown",
      "id": "09de1ee9",
      "metadata": {
        "id": "09de1ee9"
      },
      "source": [
        "## Section 3: AES-128 with Block-Cipher Mode\n",
        "#### [20 marks]\n",
        "\n",
        "To encrypt/decrypt long messages, AES should be integrated with block-cipher modes such as CBC, CTR. Futhermore, the length of real-world plaintexts does not always be the exact multiplies of AES block size. As a result, we need pad and unpad our plaintext before encryption/after decryption.\n",
        "\n",
        "For simplicity, we consider the minimum unit for a plaintext element is <b>byte</b> in this assignment. In other words, we assume the plaintext is always a sequence of bytes, but not 19 bits/22 bits etc.\n",
        "\n",
        "Following our assumption, we pad/unpad the plaintext at <b>byte level</b> for our AES-CBC implementation. It follows:\n",
        "<li> pad: If the last block matches the AES-128 block size already, do nothing. Else, pad the last block with '0x00' until it fullfill the block.</li>\n",
        "<li> unpad: Start from the last byte, remove all continuous '0x00' until a none-zero byte comes.</li>\n",
        "\n",
        "<font color=\"red\" size=\"4\">Question 11:</font> [20 mark]\n",
        "\n",
        "We have provided the pad and unpad implementation below. Make use of them to finish the implementation for AES128_CBC_encrypt and AES128_CBC_decrypt. Both of the encryption and decrytion take an 1-D byte array IV, an 1-D byte array master key, and an 1-D byte array plaintext/ciphertext. The output is the corresponding 1-D byte array ciphertext/plaintext."
      ]
    },
    {
      "cell_type": "code",
      "execution_count": 65,
      "id": "6ddb67d4",
      "metadata": {
        "id": "6ddb67d4"
      },
      "outputs": [],
      "source": [
        "## Input: 1-D byte array for the plaintext\n",
        "## Output: 1-D byte array for the padded plaintext\n",
        "def pad(plaintext):\n",
        "    pad_elm = 0x00\n",
        "    if len(plaintext) % 16 == 0:\n",
        "        pad_len = 0\n",
        "    else:\n",
        "        pad_len = 16 - len(plaintext) % 16\n",
        "    padded_plaintext = plaintext + [pad_elm] * pad_len\n",
        "    return padded_plaintext\n",
        "\n",
        "## Input: 1-D byte array for the padded plaintext\n",
        "## Output: 1-D byte array for the unpadded plaintext\n",
        "def unpad(padded_plaintext):\n",
        "    pad_elm = 0x00\n",
        "    for i in range(len(padded_plaintext)-1, -1, -1):\n",
        "        if padded_plaintext[i] != pad_elm:\n",
        "            break\n",
        "    unpadded_plaintext = padded_plaintext[:i+1]\n",
        "    return unpadded_plaintext"
      ]
    },
    {
      "cell_type": "code",
      "execution_count": 66,
      "id": "8eb3dcc0",
      "metadata": {
        "id": "8eb3dcc0"
      },
      "outputs": [],
      "source": [
        "## Input: 1-D byte array for the IV (Assume the IV is always 16 bytes)\n",
        "## Input: 1-D byte array for the master key\n",
        "## Input: 1-D byte array for the plaintext\n",
        "## Output: 1-D byte array for the ciphertext\n",
        "def AES128_CBC_encrypt(iv, master_key, plaintext):\n",
        "    padded_plaintext = pad(plaintext)\n",
        "    ciphertext = []\n",
        "    prev_block = iv\n",
        "\n",
        "    for i in range(0, len(padded_plaintext), 16):\n",
        "        block = padded_plaintext[i:i+16]\n",
        "        # XOR with previous ciphertext (or IV for first block)\n",
        "        xor_block = [block[j] ^ prev_block[j] for j in range(16)]\n",
        "        encrypted_block = AES128_encrypt(master_key, xor_block)\n",
        "        ciphertext.extend(encrypted_block)\n",
        "        prev_block = encrypted_block\n",
        "\n",
        "    return ciphertext\n",
        "\n",
        "## Input: 1-D byte array for the IV (Assume the IV is always 16 bytes)\n",
        "## Input: 1-D byte array for the master key\n",
        "## Input: 1-D byte array for the ciphertext\n",
        "## Output: 1-D byte array for the plaintext\n",
        "def AES128_CBC_decrypt(iv, master_key, ciphertext):\n",
        "    plaintext = []\n",
        "    prev_block = iv\n",
        "\n",
        "    for i in range(0, len(ciphertext), 16):\n",
        "        block = ciphertext[i:i+16]\n",
        "        decrypted_block = AES128_decrypt(master_key, block)\n",
        "        xor_block = [decrypted_block[j] ^ prev_block[j] for j in range(16)]\n",
        "        plaintext.extend(xor_block)\n",
        "        prev_block = block\n",
        "\n",
        "    unpadded_plaintext = unpad(plaintext)\n",
        "    return unpadded_plaintext\n"
      ]
    },
    {
      "cell_type": "code",
      "execution_count": 67,
      "id": "b2629727",
      "metadata": {
        "id": "b2629727"
      },
      "outputs": [],
      "source": [
        "## For your check\n",
        "test_plaintext = [0xff] * 22\n",
        "test_master_key = [0x01, 0x02, 0x03, 0x04, 0x05, 0x06, 0x07, 0x08, 0x09, 0x0A, 0x0B, 0x0C, 0x0D, 0x0E, 0x0F, 0x10]\n",
        "iv = [0x00] * 16\n",
        "ciphertext = AES128_CBC_encrypt(iv, test_master_key, test_plaintext)\n",
        "decrypted_plaintext = AES128_CBC_decrypt(iv, test_master_key, ciphertext)\n",
        "assert len(ciphertext) == 32\n",
        "assert len(decrypted_plaintext) == len(unpad(test_plaintext))"
      ]
    },
    {
      "cell_type": "markdown",
      "id": "13e44a37",
      "metadata": {
        "id": "13e44a37"
      },
      "source": [
        "---------------------------------------------------------"
      ]
    },
    {
      "cell_type": "markdown",
      "id": "673a0a22",
      "metadata": {
        "id": "673a0a22"
      },
      "source": [
        "## Section 4: Discussions\n",
        "#### [40 marks]\n",
        "\n",
        "Please answer following questions."
      ]
    },
    {
      "cell_type": "markdown",
      "id": "cec53467",
      "metadata": {
        "id": "cec53467"
      },
      "source": [
        "<font color=\"red\" size=\"4\">Question 12:</font> [10 mark]\n",
        "\n",
        "A full AES round in AES-128 encryption can be concluded as a sequence of Substitute Bytes, Shift Rows, Mix Columns, and Add Round Key.\n",
        "However, AES-128 encryption starts with an individual Add Round Key before the first round starts. Explain why such an Add Round Key operation is needed before the first round starts. Or in other words, explain why AES-128 encryption does not start with a full round including all four operations directly."
      ]
    },
    {
      "cell_type": "markdown",
      "id": "8cfb5a6a",
      "metadata": {
        "id": "8cfb5a6a"
      },
      "source": [
        "**Answer:**\n",
        "\n",
        "The $\\texttt{AddRoundKey}$ operation, which is a simple bitwise XOR of the current state with a round key, is the primary source of confusion in AES. By introducing the secret key at the very outset, the state of the data is immediately made dependent on the key. It is a deliberate measure to immediately obscure the plaintext and prevent an entire round from being effectively neutralized.\n",
        "\n",
        "For understanding the necessity of the $\\texttt{AddRoundKey}$ operation, consider a hypothetical scenario where AES-128 begins directly with a full round. In this case, the $\\texttt{SubBytes}$, $\\texttt{ShiftRows}$, and $\\texttt{MixColumns}$ operations would be performed on the raw, unaltered plaintext.\n",
        "\n",
        "In this case, all the transformations within an AES round, are deterministic and publicly known. An attacker, particularly in a known-plaintext attack scenario where they have access to both the plaintext and the corresponding ciphertext, would know the exact input to the first round's $\\texttt{SubBytes}$, $\\texttt{ShiftRows}$, and $\\texttt{MixColumns}$ operations. This would allow them to observe the output of these transformations on a known block of data.\n",
        "\n"
      ]
    },
    {
      "cell_type": "markdown",
      "id": "a09aba60",
      "metadata": {
        "id": "a09aba60"
      },
      "source": [
        "<font color=\"red\" size=\"4\">Question 13:</font> [10 mark]\n",
        "\n",
        "What is the problem for the padding strategy we used in our AES-CBC? Describe it, and describe a solution at the situation where only the ciphertext and its random IV can be transmitted between two parties.\n",
        "\n",
        "Note that we assume the minumum message unit is <b>byte</b>."
      ]
    },
    {
      "cell_type": "markdown",
      "id": "8e90f1a9",
      "metadata": {
        "id": "8e90f1a9"
      },
      "source": [
        "**Answer:**\n",
        "\n",
        "The current padding strategy uses $\\texttt{0x00}$ bytes and removes trailing zeroes in $\\texttt{unpad()}$ by stripping all $\\texttt{0x00}$ values at the end. This creates ambiguity when the original message ends in one or more $\\texttt{0x00}$ bytes, making the decryption incorrect.\n",
        "\n",
        "Now for a solution to the situation, we can do this: Append the number of valid bytes in the last block as the final byte of the message.\n",
        "\n",
        "\n",
        "\n",
        "Method:\n",
        "\n",
        "* Pad with zeros to complete the last 16-byte block.\n",
        "\n",
        "* Add one extra 16-byte block where the last byte indicates how many bytes in the previous block are valid.\n",
        "\n",
        "Example:\n",
        "\n",
        "* Plaintext = $\\texttt{[0x41, 0x42, 0x43]}$ (3 bytes)\n",
        "\n",
        "* Pad to 16 bytes = $\\texttt{[0x41, 0x42, 0x43, 0x00, ..., 0x00]}$\n",
        "\n",
        "* Final block = $\\texttt{[0x00, ..., 0x00, 0x03]}$\n",
        "\n",
        "Total = 32 bytes\n",
        "\n",
        "Unpadding:\n",
        "\n",
        "* Decrypt final block, read last byte $n$, keep only first $n$ bytes from previous block.\n",
        "\n",
        "This scheme has no ambiguity, is deterministic, and requires no reserved byte values in plaintext."
      ]
    },
    {
      "cell_type": "markdown",
      "id": "14b25159",
      "metadata": {
        "id": "14b25159"
      },
      "source": [
        "<font color=\"red\" size=\"4\">Question 14:</font> [20 mark]\n",
        "\n",
        "Consider an alternative usage of AES-CBC-encryption. Assume the IV is always fixed as '0x00'. Then, for arbitrary plaintext $m$, Alice use the ciphertext of the last encryption block as the unique $Tag$ for $m$. Assume an adversary can continuous query $Tag_i$ for arbitrary $m_i$ from Alice. With this power, can the adversary generate a valid $Tag_f$ for a message $m_f$ without querying it from Alice? If yes, describe the process to compute $Tag_f$. If no, describe how AES-CBC-encryption prevents such a tag forge."
      ]
    },
    {
      "cell_type": "markdown",
      "id": "c552448f",
      "metadata": {
        "id": "c552448f"
      },
      "source": [
        "**Answer:**\n",
        "\n",
        "Yes, the adversary can forge a valid $Tag_f$ for some chosen message $m_f$ without querying it from Alice, since CBC‑MAC with a fixed zero IV and no length‐binding is insecure for variable‑length messages. Here is one possible way:\n",
        "\n",
        "\n",
        "\n",
        "We can suppose the CBC encryption of message blocks $m_1, ..., m_n$ with key K and IV = $\\texttt{0x00}$, as:\n",
        "\n",
        "* $c_0 = \\texttt{0x00}$\n",
        "\n",
        "* $c_1 = AES_K(m_1 \\oplus c_0)$\n",
        "\n",
        "* $c_2 = AES_K(m_2 \\oplus c_1)$\n",
        "\n",
        "* $\\dots$\n",
        "\n",
        "* $c_n = AES_K(m_n \\oplus c_{n-1})$\n",
        "\n",
        "So for a message $m = m_1 || ... || m_n$, the tag is $Tag_m = c_n$.\n",
        "\n",
        "\n",
        "Now for forging, the adversary queries Alice as follows:\n",
        "\n",
        "* $Tag_1 = AES_K(m_1)$ $\\leftarrow$ where $m_1$ is a 1-block message\n",
        "\n",
        "* $Tag_2 = AES_K(m_2 \\oplus Tag_1)$ $\\leftarrow$ this is the second block if $m = m_1 || m_2$\n",
        "\n",
        "and so on.\n",
        "\n",
        "Then, the adversary can build a new message $m_f = m_1 || m_2'$ such that:\n",
        "\n",
        "$m_2' = m_2 \\oplus Tag_1$\n",
        "\n",
        "So:\n",
        "\n",
        "$c_1 = AES_K(m_1 \\oplus \\texttt{0x00}) = Tag_1$\n",
        "\n",
        "$c_2 = AES_K(m_2' \\oplus c_1) = AES_K((m_2 \\oplus Tag_1) \\oplus Tag_1) = AES_K(m_2) = Tag_2$\n",
        "\n",
        "Thus, $Tag_f = Tag_2$, the correct tag for $m_f = m_1 || m_2'$. Therefore, the adversary obtains a valid tag for the message $m$ without ever asking Alice for it."
      ]
    },
    {
      "cell_type": "markdown",
      "id": "4776dd31",
      "metadata": {
        "id": "4776dd31"
      },
      "source": [
        "--------------------------------------------\n",
        "\n",
        "End of this Assignment"
      ]
    }
  ],
  "metadata": {
    "colab": {
      "provenance": []
    },
    "kernelspec": {
      "display_name": "2025asg1",
      "language": "python",
      "name": "python3"
    },
    "language_info": {
      "codemirror_mode": {
        "name": "ipython",
        "version": 3
      },
      "file_extension": ".py",
      "mimetype": "text/x-python",
      "name": "python",
      "nbconvert_exporter": "python",
      "pygments_lexer": "ipython3",
      "version": "3.10.16"
    }
  },
  "nbformat": 4,
  "nbformat_minor": 5
}